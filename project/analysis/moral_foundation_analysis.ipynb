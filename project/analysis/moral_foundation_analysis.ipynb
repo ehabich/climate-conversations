{
 "cells": [
  {
   "cell_type": "code",
   "execution_count": null,
   "metadata": {},
   "outputs": [],
   "source": [
    "import os\n",
    "import sys\n",
    "import pandas as pd\n",
    "parent_directory = os.path.abspath(os.path.join(os.getcwd(), '..', '..'))\n",
    "print('parent', parent_directory)\n",
    "sys.path.append(parent_directory)\n",
    "print(sys.path)"
   ]
  },
  {
   "cell_type": "code",
   "execution_count": null,
   "metadata": {},
   "outputs": [],
   "source": []
  },
  {
   "cell_type": "markdown",
   "metadata": {},
   "source": []
  },
  {
   "cell_type": "markdown",
   "metadata": {},
   "source": [
    "#### Read in the Reddit Data"
   ]
  },
  {
   "cell_type": "code",
   "execution_count": null,
   "metadata": {},
   "outputs": [],
   "source": [
    "parent_directory = os.path.abspath(os.path.join(os.getcwd(), '..'))\n",
    "print(parent_directory)\n",
    "directory = os.path.join(parent_directory,'data_collection/project_data/')\n",
    "print(directory)\n",
    "full_df = pd.DataFrame()\n",
    "\n",
    "for filename in os.listdir(directory):\n",
    "    if filename.endswith(\".pkl\"):\n",
    "        file_path = os.path.join(directory, filename)\n",
    "        df = pd.read_pickle(file_path)\n",
    "\n",
    "        print(f\"Data from {filename}:\")\n",
    "        #print(df.head())\n",
    "\n",
    "        full_df = pd.concat([full_df, df], ignore_index=True)\n",
    "\n",
    "print(\"Combined DataFrame:\")\n",
    "print(full_df)"
   ]
  },
  {
   "cell_type": "code",
   "execution_count": null,
   "metadata": {},
   "outputs": [],
   "source": [
    "full_df"
   ]
  },
  {
   "cell_type": "code",
   "execution_count": null,
   "metadata": {},
   "outputs": [],
   "source": [
    "full_df['Harm_Care_Agg'] = (full_df['HarmVice'] + full_df['HarmVirtue']) / 2\n",
    "full_df['Authority_Agg'] = (full_df['AuthorityVice'] + full_df['HarmVirtue']) / 2\n",
    "full_df['Purity_Agg'] = (full_df['PurityVice'] + full_df['PurityVirtue']) / 2\n",
    "full_df['Fairness_Agg'] = (full_df['FairnessVice'] + full_df['FairnessVirtue']) / 2\n",
    "full_df['Ingroup_Agg'] = (full_df['IngroupVice'] + full_df['IngroupVirtue']) / 2"
   ]
  },
  {
   "cell_type": "code",
   "execution_count": null,
   "metadata": {},
   "outputs": [],
   "source": [
    "full_df.columns"
   ]
  },
  {
   "cell_type": "code",
   "execution_count": null,
   "metadata": {},
   "outputs": [],
   "source": [
    "\n",
    "# Group by 'subreddit' and calculate the mean for each moral foundation\n",
    "average_df = full_df.groupby('subreddit')[['HarmVirtue',\n",
    "       'AuthorityVirtue', 'PurityVirtue', 'HarmVice', 'PurityVice',\n",
    "       'IngroupVice', 'FairnessVirtue',\n",
    "       'FairnessVice', 'IngroupVirtue', 'AuthorityVice']].mean().reset_index()\n",
    "\n",
    "# Print the resulting DataFrame\n",
    "print(average_df)\n"
   ]
  },
  {
   "cell_type": "code",
   "execution_count": null,
   "metadata": {},
   "outputs": [],
   "source": [
    "full_df['Dominant_Moral_Foundation'] = full_df[['HarmVirtue', 'AuthorityVirtue', 'PurityVirtue', 'HarmVice', 'PurityVice', 'IngroupVice', 'FairnessVirtue', 'FairnessVice', 'IngroupVirtue', 'AuthorityVice']].idxmax(axis=1)"
   ]
  },
  {
   "cell_type": "code",
   "execution_count": null,
   "metadata": {},
   "outputs": [],
   "source": [
    "full_df.sort_values(by = 'Harm_Care_Agg', ascending = False)"
   ]
  },
  {
   "cell_type": "code",
   "execution_count": null,
   "metadata": {},
   "outputs": [],
   "source": [
    "# Group by 'subreddit' and calculate the mean for each moral foundation\n",
    "average_df = full_df.groupby('subreddit')[['Harm_Care_Agg',\n",
    "       'Authority_Agg', 'Purity_Agg', 'Fairness_Agg', 'Ingroup_Agg']].mean().reset_index()\n",
    "\n",
    "# Print the resulting DataFrame\n",
    "print(average_df)"
   ]
  },
  {
   "cell_type": "code",
   "execution_count": null,
   "metadata": {},
   "outputs": [],
   "source": [
    "\n"
   ]
  },
  {
   "cell_type": "code",
   "execution_count": null,
   "metadata": {},
   "outputs": [],
   "source": [
    "filtered_df = full_df[full_df['body'].str.len() > 50]"
   ]
  },
  {
   "cell_type": "markdown",
   "metadata": {},
   "source": [
    "## i think this is the best one so far"
   ]
  },
  {
   "cell_type": "code",
   "execution_count": null,
   "metadata": {},
   "outputs": [],
   "source": [
    "# Group by 'subreddit' and calculate the mean for each moral foundation\n",
    "average_df = filtered_df.groupby('subreddit')[['HarmVirtue',\n",
    "       'AuthorityVirtue', 'PurityVirtue', 'HarmVice', 'PurityVice',\n",
    "       'IngroupVice', 'FairnessVirtue',\n",
    "       'FairnessVice', 'IngroupVirtue', 'AuthorityVice']].mean().reset_index()\n",
    "\n",
    "# Print the resulting DataFrame\n",
    "print(average_df)"
   ]
  },
  {
   "cell_type": "code",
   "execution_count": null,
   "metadata": {},
   "outputs": [],
   "source": [
    "import pandas as pd\n",
    "from sklearn.preprocessing import MinMaxScaler\n",
    "\n",
    "scaler = MinMaxScaler()\n",
    "df = full_df\n",
    "\n",
    "# Separate numeric and non-numeric columns\n",
    "numeric_df = df.select_dtypes(include=['int64', 'float64'])\n",
    "non_numeric_df = df.select_dtypes(exclude=['int64', 'float64'])\n",
    "\n",
    "# Initialize and apply scaler to numeric columns\n",
    "scaler = MinMaxScaler()\n",
    "scaled_numeric_data = scaler.fit_transform(numeric_df)\n",
    "scaled_numeric_df = pd.DataFrame(scaled_numeric_data, columns=numeric_df.columns)\n",
    "\n",
    "# Concatenate scaled numeric columns back with non-numeric columns\n",
    "final_scaled_df = pd.concat([scaled_numeric_df, non_numeric_df], axis=1)\n",
    "\n",
    "# Display the final DataFrame\n",
    "print(final_scaled_df)"
   ]
  },
  {
   "cell_type": "code",
   "execution_count": null,
   "metadata": {},
   "outputs": [],
   "source": [
    "# Group by 'subreddit' and calculate the mean for each moral foundation\n",
    "average_df = final_scaled_df.groupby('subreddit')[['HarmVirtue',\n",
    "       'AuthorityVirtue', 'PurityVirtue', 'HarmVice', 'PurityVice',\n",
    "       'IngroupVice', 'FairnessVirtue',\n",
    "       'FairnessVice', 'IngroupVirtue', 'AuthorityVice']].mean().reset_index()\n",
    "\n",
    "# Print the resulting DataFrame\n",
    "print(average_df)"
   ]
  },
  {
   "cell_type": "code",
   "execution_count": null,
   "metadata": {},
   "outputs": [],
   "source": [
    "# Group by 'subreddit' and calculate the mean for each moral foundation\n",
    "average_df = final_scaled_df.groupby('subreddit')[['Harm_Care_Agg',\n",
    "       'Authority_Agg', 'Purity_Agg', 'Fairness_Agg', 'Ingroup_Agg']].mean().reset_index()\n",
    "\n",
    "# Print the resulting DataFrame\n",
    "print(average_df)"
   ]
  },
  {
   "cell_type": "code",
   "execution_count": null,
   "metadata": {},
   "outputs": [],
   "source": [
    "import pandas as pd\n",
    "import matplotlib.pyplot as plt\n",
    "# Identifying the range of the aggregate scores to adjust the y-axis dynamically\n",
    "min_score = average_df[['Harm_Care_Agg', 'Authority_Agg', 'Purity_Agg', 'Fairness_Agg', 'Ingroup_Agg']].min().min()\n",
    "max_score = average_df[['Harm_Care_Agg', 'Authority_Agg', 'Purity_Agg', 'Fairness_Agg', 'Ingroup_Agg']].max().max()\n",
    "\n",
    "# Adding a small buffer to min and max values for visual clarity\n",
    "buffer = (max_score - min_score) * 0.05\n",
    "y_min = max(0, min_score - buffer)  # Ensuring y_min doesn't go below 0\n",
    "y_max = max_score + buffer\n",
    "\n",
    "# Plotting with dynamic y-axis limits\n",
    "average_df.set_index('subreddit').plot(kind='bar', figsize=(10, 6))\n",
    "plt.title('Aggregate Moral Foundations Scores by Subreddit')\n",
    "plt.ylabel('Aggregate Score')\n",
    "plt.xlabel('Subreddit')\n",
    "plt.xticks(rotation=45)\n",
    "plt.ylim(y_min, y_max)\n",
    "plt.legend(title='Moral Foundations')\n",
    "plt.tight_layout()\n",
    "\n",
    "plt.show()"
   ]
  }
 ],
 "metadata": {
  "kernelspec": {
   "display_name": "Python 3",
   "language": "python",
   "name": "python3"
  },
  "language_info": {
   "codemirror_mode": {
    "name": "ipython",
    "version": 3
   },
   "file_extension": ".py",
   "mimetype": "text/x-python",
   "name": "python",
   "nbconvert_exporter": "python",
   "pygments_lexer": "ipython3",
   "version": "3.11.2"
  }
 },
 "nbformat": 4,
 "nbformat_minor": 2
}
