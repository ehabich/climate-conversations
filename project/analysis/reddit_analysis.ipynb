{
 "cells": [
  {
   "cell_type": "markdown",
   "metadata": {},
   "source": [
    "#### Read in Moral Foundation Dictionary"
   ]
  },
  {
   "cell_type": "code",
   "execution_count": null,
   "metadata": {},
   "outputs": [],
   "source": [
    "#File Path to Moral Foundations Dictionary\n",
    "dic_file_path = 'moral foundations dictionary.dic'\n",
    "\n",
    "moral_foundations_dict = {} # dictionary to map moral foundation to it's numeric key\n",
    "word_to_moral_foundation = {} #dictionary to of word to moral foundation\n",
    "\n",
    "line_counter = 0 #first 12 lines of dic contain the moral foundations and their numeric keys\n",
    "with open(dic_file_path, 'r', encoding='utf-8') as file:\n",
    "    for line in file:\n",
    "        if line.strip() and not line.startswith('%'):\n",
    "            parts = line.strip().split()\n",
    "            moral_found =  parts[0]\n",
    "            moral_found_code = parts[1:] #\n",
    "            # Add to dictionary (note: you might need to adjust parsing logic)\n",
    "            if line_counter < 12: #first 12 lines contain the moral foundations and their keys\n",
    "                moral_foundations_dict[moral_found] = moral_found_code[0]\n",
    "            else: #rest of lines contain words\n",
    "                cats = [moral_foundations_dict[cat] for cat in moral_found_code]\n",
    "                word_to_moral_foundation[moral_found] = cats\n",
    "        line_counter+=1\n"
   ]
  },
  {
   "cell_type": "code",
   "execution_count": null,
   "metadata": {},
   "outputs": [],
   "source": [
    "moral_foundations_dict"
   ]
  },
  {
   "cell_type": "code",
   "execution_count": null,
   "metadata": {},
   "outputs": [],
   "source": [
    "word_to_moral_foundation"
   ]
  },
  {
   "cell_type": "markdown",
   "metadata": {},
   "source": [
    "#### Expand Moral Foundation Dictionary with Word2Vec"
   ]
  },
  {
   "cell_type": "markdown",
   "metadata": {},
   "source": [
    "Use HuggingFace Pre-trained model on tweets."
   ]
  },
  {
   "cell_type": "code",
   "execution_count": null,
   "metadata": {},
   "outputs": [],
   "source": [
    "import gensim.downloader as api\n",
    "\n",
    "model = api.load(\"glove-twitter-25\")"
   ]
  },
  {
   "cell_type": "code",
   "execution_count": null,
   "metadata": {},
   "outputs": [],
   "source": [
    "word_to_moral_foundation_expanded = word_to_moral_foundation.copy()\n",
    "expanded_dictionary = {}\n",
    "\n",
    "similarity_threshold = 0.85\n",
    "\n",
    "for word, categories in word_to_moral_foundation_expanded.items():\n",
    "    if word in model.key_to_index:\n",
    "        similar_words = model.most_similar(positive=[word], topn=100)\n",
    "\n",
    "        # Filter based on the similarity threshold\n",
    "        for similar_word, similarity_score in similar_words:\n",
    "            if similarity_score >= similarity_threshold:\n",
    "                expanded_dictionary[similar_word] = categories\n",
    "\n",
    "word_to_moral_foundation_expanded.update(expanded_dictionary)"
   ]
  },
  {
   "cell_type": "code",
   "execution_count": null,
   "metadata": {},
   "outputs": [],
   "source": [
    "len(word_to_moral_foundation_expanded)"
   ]
  },
  {
   "cell_type": "code",
   "execution_count": null,
   "metadata": {},
   "outputs": [],
   "source": [
    "word_to_moral_foundation_expanded"
   ]
  },
  {
   "cell_type": "markdown",
   "metadata": {},
   "source": [
    "#### Read in the Reddit Data"
   ]
  },
  {
   "cell_type": "code",
   "execution_count": null,
   "metadata": {},
   "outputs": [],
   "source": [
    "import pickle\n",
    "!ls\n",
    "\n",
    "with open('/Users/kathryn/Projects/Advanced ML/project/climate-conversations/project/data_collection/project_data/climateCommentsDf.pickle', 'rb') as f:\n",
    "    comments_df = pickle.load(f)\n",
    "\n",
    "with open('/Users/kathryn/Projects/Advanced ML/project/climate-conversations/project/data_collection/project_data/climateSubmissionsDf.pickle', 'rb') as f:\n",
    "    submissions_df = pickle.load(f)"
   ]
  },
  {
   "cell_type": "code",
   "execution_count": null,
   "metadata": {},
   "outputs": [],
   "source": [
    "comments_df.head()\n"
   ]
  },
  {
   "cell_type": "code",
   "execution_count": null,
   "metadata": {},
   "outputs": [],
   "source": [
    "comments_df['processed_body'] = comments_df['body'].str.lower()\n",
    "comments_df.shape"
   ]
  },
  {
   "cell_type": "code",
   "execution_count": null,
   "metadata": {},
   "outputs": [],
   "source": [
    "subset_comments_df = comments_df.iloc[0:1000]"
   ]
  },
  {
   "cell_type": "code",
   "execution_count": null,
   "metadata": {},
   "outputs": [],
   "source": [
    "from scipy.spatial.distance import cosine\n",
    "import numpy as np\n",
    "\n",
    "def calculate_similarity(comment_vector, foundation_vector):\n",
    "    if np.all(comment_vector) and np.all(foundation_vector):\n",
    "        return 1 - cosine(comment_vector, foundation_vector)\n",
    "    else:\n",
    "        return -1"
   ]
  },
  {
   "cell_type": "code",
   "execution_count": null,
   "metadata": {},
   "outputs": [],
   "source": [
    "def assign_moral_foundations(comment, extended_dict):\n",
    "    foundations = set()\n",
    "    for word in comment.split():\n",
    "        for key, values in extended_dict.items():\n",
    "            if key.endswith('*') and word.startswith(key[:-1]):\n",
    "                foundations.update(values)\n",
    "            elif word == key:\n",
    "                foundations.update(values)\n",
    "    return list(foundations)\n",
    "subset_comments_df['moral_foundations'] = subset_comments_df['processed_body'].apply(assign_moral_foundations, extended_dict=word_to_moral_foundation_expanded)"
   ]
  },
  {
   "cell_type": "code",
   "execution_count": null,
   "metadata": {},
   "outputs": [],
   "source": [
    "display(subset_comments_df['moral_foundations'])"
   ]
  },
  {
   "cell_type": "markdown",
   "metadata": {},
   "source": []
  }
 ],
 "metadata": {
  "kernelspec": {
   "display_name": "Python 3",
   "language": "python",
   "name": "python3"
  },
  "language_info": {
   "codemirror_mode": {
    "name": "ipython",
    "version": 3
   },
   "file_extension": ".py",
   "mimetype": "text/x-python",
   "name": "python",
   "nbconvert_exporter": "python",
   "pygments_lexer": "ipython3",
   "version": "3.11.2"
  }
 },
 "nbformat": 4,
 "nbformat_minor": 2
}
