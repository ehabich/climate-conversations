{
  "cells": [
    {
      "cell_type": "code",
      "execution_count": 8,
      "metadata": {},
      "outputs": [],
      "source": [
        "import pickle\n",
        "import os\n",
        "import sys\n",
        "import json\n",
        "from moralstrength.moralstrength import string_moral_values\n",
        "from project.utils.classes.tokenizer import Tokenizer\n",
        "import warnings\n",
        "warnings.filterwarnings(\"ignore\")"
      ]
    },
    {
      "cell_type": "markdown",
      "metadata": {},
      "source": [
        "#### Read in the Reddit Data"
      ]
    },
    {
      "cell_type": "code",
      "execution_count": 9,
      "metadata": {},
      "outputs": [
        {
          "name": "stdout",
          "output_type": "stream",
          "text": [
            "/Users/kathryn/Projects/Advanced-ML/project/climate-conversations/project\n",
            "/Users/kathryn/Projects/Advanced-ML/project/climate-conversations/project/data_collection/project_data/climateCommentsDf.pickle\n"
          ]
        }
      ],
      "source": [
        "parent_directory = os.path.abspath(os.path.join(os.getcwd(), '..'))\n",
        "\n",
        "pickle_file_path_comment = os.path.join(parent_directory,\n",
        "    'data_collection/project_data/climateCommentsDf.pickle')\n",
        "\n",
        "pickle_file_path_submission = os.path.join(parent_directory,\n",
        "    'data_collection/project_data/climateSubmissionsDf.pickle')\n",
        "\n",
        "with open(pickle_file_path_comment, 'rb') as f:\n",
        "    comments_df = pickle.load(f)\n",
        "\n",
        "with open(pickle_file_path_submission, 'rb') as f:\n",
        "    submission_df = pickle.load(f)"
      ]
    },
    {
      "cell_type": "code",
      "execution_count": null,
      "metadata": {},
      "outputs": [
        {
          "data": {
            "text/html": [
              "<div>\n",
              "<style scoped>\n",
              "    .dataframe tbody tr th:only-of-type {\n",
              "        vertical-align: middle;\n",
              "    }\n",
              "\n",
              "    .dataframe tbody tr th {\n",
              "        vertical-align: top;\n",
              "    }\n",
              "\n",
              "    .dataframe thead th {\n",
              "        text-align: right;\n",
              "    }\n",
              "</style>\n",
              "<table border=\"1\" class=\"dataframe\">\n",
              "  <thead>\n",
              "    <tr style=\"text-align: right;\">\n",
              "      <th></th>\n",
              "      <th>id</th>\n",
              "      <th>subreddit</th>\n",
              "      <th>body</th>\n",
              "      <th>author</th>\n",
              "      <th>score</th>\n",
              "      <th>gilded</th>\n",
              "      <th>created_utc</th>\n",
              "      <th>parent_id</th>\n",
              "      <th>link_id</th>\n",
              "      <th>retrieved_on</th>\n",
              "      <th>controversiality</th>\n",
              "      <th>is_submitter</th>\n",
              "    </tr>\n",
              "  </thead>\n",
              "  <tbody>\n",
              "    <tr>\n",
              "      <th>0</th>\n",
              "      <td>inlvurb</td>\n",
              "      <td>politics</td>\n",
              "      <td>[removed]</td>\n",
              "      <td>[deleted]</td>\n",
              "      <td>1</td>\n",
              "      <td>0</td>\n",
              "      <td>1662654718</td>\n",
              "      <td>x8y56x</td>\n",
              "      <td>x8y56x</td>\n",
              "      <td>1665086767</td>\n",
              "      <td>0</td>\n",
              "      <td>False</td>\n",
              "    </tr>\n",
              "    <tr>\n",
              "      <th>1</th>\n",
              "      <td>inlw0wi</td>\n",
              "      <td>worldnews</td>\n",
              "      <td>Needed a laugh!</td>\n",
              "      <td>serious-activity-228</td>\n",
              "      <td>3</td>\n",
              "      <td>0</td>\n",
              "      <td>1662654781</td>\n",
              "      <td>inlvhve</td>\n",
              "      <td>x8yhv5</td>\n",
              "      <td>1665086761</td>\n",
              "      <td>0</td>\n",
              "      <td>False</td>\n",
              "    </tr>\n",
              "    <tr>\n",
              "      <th>2</th>\n",
              "      <td>inlx8g7</td>\n",
              "      <td>politics</td>\n",
              "      <td>[deleted]</td>\n",
              "      <td>[deleted]</td>\n",
              "      <td>1</td>\n",
              "      <td>0</td>\n",
              "      <td>1662655233</td>\n",
              "      <td>inkxrse</td>\n",
              "      <td>x8y56x</td>\n",
              "      <td>1665086718</td>\n",
              "      <td>0</td>\n",
              "      <td>False</td>\n",
              "    </tr>\n",
              "    <tr>\n",
              "      <th>3</th>\n",
              "      <td>inlxwat</td>\n",
              "      <td>worldnews</td>\n",
              "      <td>Asked!</td>\n",
              "      <td>dieyoufool3</td>\n",
              "      <td>3</td>\n",
              "      <td>0</td>\n",
              "      <td>1662655481</td>\n",
              "      <td>inlszmb</td>\n",
              "      <td>x94ag0</td>\n",
              "      <td>1665086696</td>\n",
              "      <td>0</td>\n",
              "      <td>True</td>\n",
              "    </tr>\n",
              "    <tr>\n",
              "      <th>4</th>\n",
              "      <td>inlyusw</td>\n",
              "      <td>worldnews</td>\n",
              "      <td>[deleted]</td>\n",
              "      <td>[deleted]</td>\n",
              "      <td>1</td>\n",
              "      <td>0</td>\n",
              "      <td>1662655839</td>\n",
              "      <td>inlyqzt</td>\n",
              "      <td>x8yhv5</td>\n",
              "      <td>1665086662</td>\n",
              "      <td>0</td>\n",
              "      <td>False</td>\n",
              "    </tr>\n",
              "  </tbody>\n",
              "</table>\n",
              "</div>"
            ],
            "text/plain": [
              "        id  subreddit             body                author  score  gilded  \\\n",
              "0  inlvurb   politics        [removed]             [deleted]      1       0   \n",
              "1  inlw0wi  worldnews  Needed a laugh!  serious-activity-228      3       0   \n",
              "2  inlx8g7   politics        [deleted]             [deleted]      1       0   \n",
              "3  inlxwat  worldnews           Asked!           dieyoufool3      3       0   \n",
              "4  inlyusw  worldnews        [deleted]             [deleted]      1       0   \n",
              "\n",
              "   created_utc parent_id link_id  retrieved_on  controversiality  is_submitter  \n",
              "0   1662654718    x8y56x  x8y56x    1665086767                 0         False  \n",
              "1   1662654781   inlvhve  x8yhv5    1665086761                 0         False  \n",
              "2   1662655233   inkxrse  x8y56x    1665086718                 0         False  \n",
              "3   1662655481   inlszmb  x94ag0    1665086696                 0          True  \n",
              "4   1662655839   inlyqzt  x8yhv5    1665086662                 0         False  "
            ]
          },
          "execution_count": 3,
          "metadata": {},
          "output_type": "execute_result"
        }
      ],
      "source": [
        "#comments_df.head()\n",
        "subset_comments_df = comments_df.iloc[0:1000]\n",
        "subset_comments_df.head()"
      ]
    },
    {
      "cell_type": "code",
      "execution_count": null,
      "metadata": {},
      "outputs": [],
      "source": [
        "#comments_df.to_csv(\"comments.csv\")\n",
        "subset_comments_df.to_csv(\"comments.csv\")"
      ]
    },
    {
      "cell_type": "code",
      "execution_count": null,
      "metadata": {},
      "outputs": [],
      "source": [
        "parent_directory = os.path.abspath(os.path.join(os.getcwd(), '..', '..'))\n",
        "sys.path.append(parent_directory)\n",
        "\n",
        "tokenizer = Tokenizer(filepath='comments.csv',\n",
        "                      filename='tokenized_comments.csv')\n",
        "tokenizer.process(cols_to_tokenize=[('body', 'tokenized_body')])"
      ]
    },
    {
      "cell_type": "markdown",
      "metadata": {},
      "source": [
        "#### Method 1: Assign Moral Foundations based on Word Counts"
      ]
    },
    {
      "cell_type": "code",
      "execution_count": null,
      "metadata": {},
      "outputs": [],
      "source": [
        "def assign_moral_foundations(comment, extended_dict):\n",
        "    foundations = {}\n",
        "    for word in comment:\n",
        "        for key, foundation_values in extended_dict.items():\n",
        "            # Ensure foundation_values is a list for consistency\n",
        "            if not isinstance(foundation_values, list):\n",
        "                foundation_values = [foundation_values]\n",
        "            for value in foundation_values:\n",
        "                if key.endswith('*') and word.startswith(key[:-1]):\n",
        "                    # Increment the foundation's count\n",
        "                    foundations[value] = foundations.get(value, 0) + 1\n",
        "                elif word == key:\n",
        "                    # Increment the foundation's count\n",
        "                    foundations[value] = foundations.get(value, 0) + 1\n",
        "    return foundations\n",
        "\n",
        "with open('expanded_moral_foundations_dictionary.json', 'r') as f:\n",
        "    word_to_moral_foundation_expanded = json.load(f)\n",
        "# Assuming tokenizer.tokenized_df['tokenized_body_words_norm']\n",
        "# contains lists of words for each comment\n",
        "tokenizer.tokenized_df['moral_foundations'] = \\\n",
        "tokenizer.tokenized_df['tokenized_body_words_norm'].apply(\n",
        "    lambda x: assign_moral_foundations(x, word_to_moral_foundation_expanded)\n",
        ")"
      ]
    },
    {
      "cell_type": "markdown",
      "metadata": {},
      "source": [
        "#### Method 2: Using moralstrength package"
      ]
    },
    {
      "cell_type": "code",
      "execution_count": null,
      "metadata": {},
      "outputs": [],
      "source": [
        "texts = tokenizer.tokenized_df['tokenized_body_sents']\n",
        "\n",
        "for text in texts:\n",
        "    text = text\n",
        "    print(text)\n",
        "    #result = estimate_morals(text, process=True)\n",
        "    result = string_moral_values(text[0], model='unigram+freq')\n",
        "    print(result)"
      ]
    }
  ],
  "metadata": {
    "kernelspec": {
      "display_name": "Python 3",
      "language": "python",
      "name": "python3"
    },
    "language_info": {
      "codemirror_mode": {
        "name": "ipython",
        "version": 3
      },
      "file_extension": ".py",
      "mimetype": "text/x-python",
      "name": "python",
      "nbconvert_exporter": "python",
      "pygments_lexer": "ipython3",
      "version": "3.11.2"
    }
  },
  "nbformat": 4,
  "nbformat_minor": 2
}
