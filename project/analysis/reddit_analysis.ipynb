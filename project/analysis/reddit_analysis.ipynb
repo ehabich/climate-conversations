{
 "cells": [
  {
   "cell_type": "markdown",
   "metadata": {},
   "source": [
    "#### Read in the Reddit Data"
   ]
  },
  {
   "cell_type": "code",
   "execution_count": null,
   "metadata": {},
   "outputs": [],
   "source": [
    "import pickle\n",
    "import sys\n",
    "import os\n",
    "\n",
    "parent_directory = os.path.abspath(os.path.join(os.getcwd(), '..'))\n",
    "print(parent_directory)\n",
    "\n",
    "\n",
    "# Define the path to the pickle file relative to the parent directory\n",
    "pickle_file_path_comment = os.path.join(parent_directory, 'data_collection/project_data/climateCommentsDf.pickle')\n",
    "pickle_file_path_submission = os.path.join(parent_directory, 'data_collection/project_data/climateSubmissionsDf.pickle')\n",
    "\n",
    "print(pickle_file_path_comment)\n",
    "# Now you can access the pickle file\n",
    "with open(pickle_file_path_comment, 'rb') as f:\n",
    "    comments_df = pickle.load(f)\n",
    "\n",
    "print(pickle_file_path_submission)\n",
    "# Now you can access the pickle file\n",
    "with open(pickle_file_path_submission, 'rb') as f:\n",
    "    submission_df = pickle.load(f)"
   ]
  },
  {
   "cell_type": "code",
   "execution_count": null,
   "metadata": {},
   "outputs": [],
   "source": [
    "comments_df.head()\n",
    "#subset_comments_df = comments_df.iloc[0:1000] for testing\n",
    "#subset_comments_df.head()"
   ]
  },
  {
   "cell_type": "code",
   "execution_count": null,
   "metadata": {},
   "outputs": [],
   "source": [
    "comments_df.to_csv(\"comments.csv\")\n",
    "#subset_comments_df.to_csv(\"comments.csv\")"
   ]
  },
  {
   "cell_type": "code",
   "execution_count": null,
   "metadata": {},
   "outputs": [],
   "source": [
    "import sys\n",
    "parent_directory = os.path.abspath(os.path.join(os.getcwd(), '..', '..'))\n",
    "#print(parent_directory)\n",
    "sys.path.append(parent_directory)\n",
    "\n",
    "from project.utils.classes.tokenizer import Tokenizer\n",
    "tokenizer = Tokenizer(filepath='comments.csv', filename='tokenized_comments.csv')\n",
    "tokenizer.process(cols_to_tokenize=[('body', 'tokenized_body')])"
   ]
  },
  {
   "cell_type": "code",
   "execution_count": null,
   "metadata": {},
   "outputs": [],
   "source": [
    "tokenizer.tokenized_df"
   ]
  },
  {
   "cell_type": "markdown",
   "metadata": {},
   "source": [
    "#### Method 1: Assign Moral Foundations based on Word Counts"
   ]
  },
  {
   "cell_type": "code",
   "execution_count": null,
   "metadata": {},
   "outputs": [],
   "source": [
    "def assign_moral_foundations(comment, extended_dict):\n",
    "    foundations = {}\n",
    "    for word in comment:\n",
    "        for key, foundation_values in extended_dict.items():\n",
    "            # Ensure foundation_values is a list for consistency\n",
    "            if not isinstance(foundation_values, list):\n",
    "                foundation_values = [foundation_values]\n",
    "            \n",
    "            for value in foundation_values:\n",
    "                if key.endswith('*') and word.startswith(key[:-1]):\n",
    "                    # Increment the foundation's count\n",
    "                    foundations[value] = foundations.get(value, 0) + 1\n",
    "                elif word == key:\n",
    "                    # Increment the foundation's count\n",
    "                    foundations[value] = foundations.get(value, 0) + 1\n",
    "    return foundations\n",
    "\n",
    "# Assuming tokenizer.tokenized_df['tokenized_body_words_norm'] contains lists of words for each comment\n",
    "tokenizer.tokenized_df['moral_foundations'] = tokenizer.tokenized_df['tokenized_body_words_norm'].apply(\n",
    "    lambda x: assign_moral_foundations(x, word_to_moral_foundation_expanded)\n",
    ")"
   ]
  },
  {
   "cell_type": "code",
   "execution_count": null,
   "metadata": {},
   "outputs": [],
   "source": [
    "tokenizer.tokenized_df['moral_foundations']"
   ]
  },
  {
   "cell_type": "markdown",
   "metadata": {},
   "source": [
    "#### Method 2: Using moralstrength package"
   ]
  },
  {
   "cell_type": "code",
   "execution_count": null,
   "metadata": {},
   "outputs": [],
   "source": [
    "import warnings\n",
    "warnings.filterwarnings(\"ignore\")\n",
    "from moralstrength.moralstrength import estimate_morals, models, string_moral_values\n",
    "\n",
    "texts = tokenizer.tokenized_df['tokenized_body_sents']\n",
    "\n",
    "for text in texts:\n",
    "    text = text\n",
    "    print(text)\n",
    "    #result = estimate_morals(text, process=True) # set to false if text is alredy pre-processed\n",
    "    result = string_moral_values(text[0], model='unigram+freq')\n",
    "    print(result)"
   ]
  }
 ],
 "metadata": {
  "kernelspec": {
   "display_name": "Python 3",
   "language": "python",
   "name": "python3"
  },
  "language_info": {
   "codemirror_mode": {
    "name": "ipython",
    "version": 3
   },
   "file_extension": ".py",
   "mimetype": "text/x-python",
   "name": "python",
   "nbconvert_exporter": "python",
   "pygments_lexer": "ipython3",
   "version": "3.11.2"
  }
 },
 "nbformat": 4,
 "nbformat_minor": 2
}
