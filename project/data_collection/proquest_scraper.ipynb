{
 "cells": [
  {
   "cell_type": "code",
   "execution_count": null,
   "metadata": {},
   "outputs": [],
   "source": [
    "# Set Up\n",
    "conda install xmltodict\n",
    "conda install pyarrow\n",
   ]
  },
  {
   "cell_type": "code",
   "execution_count": null,
   "metadata": {},
   "outputs": [],
   "source": [
    "# Set Up\n",
    "import xmltodict\n",
    "import pyarrow\n",
    "import os\n",
    "import json\n",
    "import pandas as pd"
   ]
  },
  {
   "cell_type": "code",
   "execution_count": null,
   "metadata": {},
   "outputs": [],
   "source": [
    "#TODO change to dataset name\n",
    "# Replace FILES_TO_EXPORT, parq_file_path and tz_file_path with correct file paths\n",
    "files_to_export  = \"data/[INSERT]\"\n",
    "parq_file_path = \"data/[INSERT].parquet\"\n",
    "tz_file_path = \"data/[INSERT].tar.gz\""
   ]
  },
  {
   "cell_type": "code",
   "execution_count": null,
   "metadata": {},
   "outputs": [],
   "source": [
    "# Convert folder of xml files to list of JSON files\n",
    "file_list = os.listdir(files_to_export)\n",
    "file_list = [file for file in file_list if file.endswith(\"xml\")]\n",
    "\n",
    "list_of_file_data = []\n",
    "\n",
    "for file in file_list:\n",
    "    file_path = os.path.join(files_to_export , file)\n",
    "    with open(file_path, \"r\") as f:\n",
    "        file_as_xml = f.read()\n",
    "        file_as_dict = xmltodict.parse(file_as_xml)\n",
    "        list_of_file_data.append(json.dumps(file_as_dict))"
   ]
  },
  {
   "cell_type": "code",
   "execution_count": null,
   "metadata": {},
   "outputs": [],
   "source": [
    "# Write Dataframe to parquet and then tarball to compress file size for export\n",
    "df = pd.DataFrame(list_of_file_data)\n",
    "df.columns = [\"Data\"]\n",
    "df.to_parquet(parq_file_path)"
   ]
  },
  {
   "cell_type": "code",
   "execution_count": null,
   "metadata": {},
   "outputs": [],
   "source": [
    "# Convert to tar\n",
    "!tar -czvf data/[INSERT].tar.gz data/[INSERT].parquet"
   ]
  },
  {
   "cell_type": "code",
   "execution_count": null,
   "metadata": {},
   "outputs": [],
   "source": [
    "# Calculate final file size (to stay within Proquest file size limit)\n",
    "file_size = os.path.getsize(tz_file_path)\n",
    "print(f\"Size of file: {file_size/1000000} MB\")"
   ]
  },
  {
   "cell_type": "code",
   "execution_count": null,
   "metadata": {},
   "outputs": [],
   "source": [
    "# Export\n",
    "!aws s3 cp $tz_file_path s3://pq-tdm-studio-results/tdm-ale-data/a1375/results/"
   ]
  }
 ],
 "metadata": {
  "language_info": {
   "name": "python"
  }
 },
 "nbformat": 4,
 "nbformat_minor": 2
}
